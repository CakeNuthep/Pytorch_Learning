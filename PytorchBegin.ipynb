{
  "nbformat": 4,
  "nbformat_minor": 0,
  "metadata": {
    "colab": {
      "name": "Pytorch.ipynb",
      "provenance": [],
      "authorship_tag": "ABX9TyNzcUyageLzwQmK8JWsN8lU",
      "include_colab_link": true
    },
    "kernelspec": {
      "name": "python3",
      "display_name": "Python 3"
    },
    "accelerator": "GPU"
  },
  "cells": [
    {
      "cell_type": "markdown",
      "metadata": {
        "id": "view-in-github",
        "colab_type": "text"
      },
      "source": [
        "<a href=\"https://colab.research.google.com/github/CakeNuthep/Pytorch_Learning/blob/main/PytorchBegin.ipynb\" target=\"_parent\"><img src=\"https://colab.research.google.com/assets/colab-badge.svg\" alt=\"Open In Colab\"/></a>"
      ]
    },
    {
      "cell_type": "markdown",
      "metadata": {
        "id": "fKkl5JUu11vM"
      },
      "source": [
        "# การติดตั้ง"
      ]
    },
    {
      "cell_type": "code",
      "metadata": {
        "id": "L4-Aj9LuvVaJ"
      },
      "source": [
        "import torch"
      ],
      "execution_count": 1,
      "outputs": []
    },
    {
      "cell_type": "code",
      "metadata": {
        "colab": {
          "base_uri": "https://localhost:8080/"
        },
        "id": "vyJ1JUvDwLtF",
        "outputId": "8a412470-64b1-4cea-dc82-edef25cbbc9b"
      },
      "source": [
        "print(torch.__version__)"
      ],
      "execution_count": 2,
      "outputs": [
        {
          "output_type": "stream",
          "text": [
            "1.7.0+cu101\n"
          ],
          "name": "stdout"
        }
      ]
    },
    {
      "cell_type": "code",
      "metadata": {
        "id": "rxAOW7lwddy0",
        "colab": {
          "base_uri": "https://localhost:8080/"
        },
        "outputId": "d6d368ea-4984-4b68-88bd-235fbf1a7c13"
      },
      "source": [
        "torch.cuda.is_available()"
      ],
      "execution_count": 3,
      "outputs": [
        {
          "output_type": "execute_result",
          "data": {
            "text/plain": [
              "True"
            ]
          },
          "metadata": {
            "tags": []
          },
          "execution_count": 3
        }
      ]
    },
    {
      "cell_type": "markdown",
      "metadata": {
        "id": "CiZhg11w16cu"
      },
      "source": [
        "# การใช้ง่าน Tensor ใน PyTorch"
      ]
    },
    {
      "cell_type": "code",
      "metadata": {
        "colab": {
          "base_uri": "https://localhost:8080/"
        },
        "id": "pBryesynxAeE",
        "outputId": "f9ce4038-6b4d-4311-f384-f0eda8934cb1"
      },
      "source": [
        "x = torch.rand(3,4,dtype = torch.float32)\r\n",
        "dtype = print(x)"
      ],
      "execution_count": 4,
      "outputs": [
        {
          "output_type": "stream",
          "text": [
            "tensor([[0.7120, 0.9213, 0.3132, 0.7964],\n",
            "        [0.6511, 0.7982, 0.5221, 0.9514],\n",
            "        [0.9199, 0.3579, 0.9062, 0.9025]])\n"
          ],
          "name": "stdout"
        }
      ]
    },
    {
      "cell_type": "code",
      "metadata": {
        "colab": {
          "base_uri": "https://localhost:8080/"
        },
        "id": "gKGSrDDnxKLf",
        "outputId": "3ec8a7e4-3988-4d31-edfe-5d229f29a3cf"
      },
      "source": [
        "x = torch.zeros(5,3, dtype= torch.long)\r\n",
        "print(x)"
      ],
      "execution_count": 5,
      "outputs": [
        {
          "output_type": "stream",
          "text": [
            "tensor([[0, 0, 0],\n",
            "        [0, 0, 0],\n",
            "        [0, 0, 0],\n",
            "        [0, 0, 0],\n",
            "        [0, 0, 0]])\n"
          ],
          "name": "stdout"
        }
      ]
    },
    {
      "cell_type": "code",
      "metadata": {
        "id": "40-v1QUQd88e",
        "colab": {
          "base_uri": "https://localhost:8080/"
        },
        "outputId": "adeda6b7-17b0-4f1b-e7aa-39d562e34fe3"
      },
      "source": [
        "x = x.new_ones(5,3,dtype=torch.float64)\r\n",
        "print(x)"
      ],
      "execution_count": 6,
      "outputs": [
        {
          "output_type": "stream",
          "text": [
            "tensor([[1., 1., 1.],\n",
            "        [1., 1., 1.],\n",
            "        [1., 1., 1.],\n",
            "        [1., 1., 1.],\n",
            "        [1., 1., 1.]], dtype=torch.float64)\n"
          ],
          "name": "stdout"
        }
      ]
    },
    {
      "cell_type": "code",
      "metadata": {
        "colab": {
          "base_uri": "https://localhost:8080/"
        },
        "id": "jT5oOGYbxX3O",
        "outputId": "09f6b081-321c-40f1-c0e6-b3dccaa3f7c1"
      },
      "source": [
        "x = torch.tensor([4.123,3])\r\n",
        "print(x)"
      ],
      "execution_count": 7,
      "outputs": [
        {
          "output_type": "stream",
          "text": [
            "tensor([4.1230, 3.0000])\n"
          ],
          "name": "stdout"
        }
      ]
    },
    {
      "cell_type": "code",
      "metadata": {
        "colab": {
          "base_uri": "https://localhost:8080/"
        },
        "id": "-rGxogQNxvXu",
        "outputId": "abb586e7-37ac-4ad3-960d-f97cb0d0243e"
      },
      "source": [
        "x = torch.randn_like(x, dtype=torch.float32)   #result has the same size\r\n",
        "print(x)"
      ],
      "execution_count": 8,
      "outputs": [
        {
          "output_type": "stream",
          "text": [
            "tensor([ 1.2335, -0.7003])\n"
          ],
          "name": "stdout"
        }
      ]
    },
    {
      "cell_type": "code",
      "metadata": {
        "id": "LuL65E5AeKL_",
        "colab": {
          "base_uri": "https://localhost:8080/"
        },
        "outputId": "367acc35-d4e8-413e-82d4-a03fdcf28a0d"
      },
      "source": [
        "x = torch.Tensor(5,3).fill_(7)\r\n",
        "print(x)"
      ],
      "execution_count": 9,
      "outputs": [
        {
          "output_type": "stream",
          "text": [
            "tensor([[7., 7., 7.],\n",
            "        [7., 7., 7.],\n",
            "        [7., 7., 7.],\n",
            "        [7., 7., 7.],\n",
            "        [7., 7., 7.]])\n"
          ],
          "name": "stdout"
        }
      ]
    },
    {
      "cell_type": "code",
      "metadata": {
        "id": "bOmJDnnpeYqv",
        "colab": {
          "base_uri": "https://localhost:8080/"
        },
        "outputId": "0ade5c71-8495-46c3-ae25-9fbf6133a525"
      },
      "source": [
        "x = torch.Tensor(5,3).fill_(7).type(torch.int)\r\n",
        "print(x)"
      ],
      "execution_count": 10,
      "outputs": [
        {
          "output_type": "stream",
          "text": [
            "tensor([[7, 7, 7],\n",
            "        [7, 7, 7],\n",
            "        [7, 7, 7],\n",
            "        [7, 7, 7],\n",
            "        [7, 7, 7]], dtype=torch.int32)\n"
          ],
          "name": "stdout"
        }
      ]
    },
    {
      "cell_type": "code",
      "metadata": {
        "colab": {
          "base_uri": "https://localhost:8080/"
        },
        "id": "5mxaAJUb05z5",
        "outputId": "df0c193f-ba60-4522-f9ec-a7423d6539b6"
      },
      "source": [
        "torch.manual_seed(1)\r\n",
        "x = torch.randn(5,3)\r\n",
        "print(x)"
      ],
      "execution_count": 11,
      "outputs": [
        {
          "output_type": "stream",
          "text": [
            "tensor([[ 0.6614,  0.2669,  0.0617],\n",
            "        [ 0.6213, -0.4519, -0.1661],\n",
            "        [-1.5228,  0.3817, -1.0276],\n",
            "        [-0.5631, -0.8923, -0.0583],\n",
            "        [-0.1955, -0.9656,  0.4224]])\n"
          ],
          "name": "stdout"
        }
      ]
    },
    {
      "cell_type": "markdown",
      "metadata": {
        "id": "LfF5dOg12MVp"
      },
      "source": [
        "# การแปลงไปมาระหว่าง numpy กับ Tensor"
      ]
    },
    {
      "cell_type": "code",
      "metadata": {
        "colab": {
          "base_uri": "https://localhost:8080/"
        },
        "id": "JM6Xz5CB2ZXy",
        "outputId": "2253d249-19cd-4e12-d19f-96839b3dcf5f"
      },
      "source": [
        "import numpy as np\r\n",
        "a = np.array([1.,3.])\r\n",
        "t = torch.from_numpy(a)\r\n",
        "print(t) # ได้ tensor([1.,3.])\r\n",
        "print(a) # ได้ [ 1.,3.]\r\n",
        "t += 1\r\n",
        "print(t) # ได้ tensor([2.,4.])\r\n",
        "print(a) # ได้ [ 2.,4.]"
      ],
      "execution_count": 12,
      "outputs": [
        {
          "output_type": "stream",
          "text": [
            "tensor([1., 3.], dtype=torch.float64)\n",
            "[1. 3.]\n",
            "tensor([2., 4.], dtype=torch.float64)\n",
            "[2. 4.]\n"
          ],
          "name": "stdout"
        }
      ]
    },
    {
      "cell_type": "code",
      "metadata": {
        "colab": {
          "base_uri": "https://localhost:8080/"
        },
        "id": "sqt8UMsF3hEP",
        "outputId": "0cffc528-c85c-47e1-ff5d-29c8ff11f708"
      },
      "source": [
        "a = np.array([1.,3.])\r\n",
        "t = torch.Tensor(a)\r\n",
        "print(t) # ได้ tensor([1.,3.])\r\n",
        "print(a) # ได้ [ 1.,3.]\r\n",
        "t += 1\r\n",
        "print(t) # ได้ tensor([2.,4.])\r\n",
        "print(a) # ได้ [ 1.,3.]"
      ],
      "execution_count": 13,
      "outputs": [
        {
          "output_type": "stream",
          "text": [
            "tensor([1., 3.])\n",
            "[1. 3.]\n",
            "tensor([2., 4.])\n",
            "[1. 3.]\n"
          ],
          "name": "stdout"
        }
      ]
    },
    {
      "cell_type": "code",
      "metadata": {
        "colab": {
          "base_uri": "https://localhost:8080/"
        },
        "id": "7WSIORCE2kYu",
        "outputId": "e01c7740-7aec-442e-b8e9-47199e6c0e18"
      },
      "source": [
        "t = torch.Tensor([2,3])\r\n",
        "b = t.numpy()\r\n",
        "print(b) # ได้ [ 2.,3.]\r\n",
        "b += 1\r\n",
        "print(b) # ได้ [ 3.,4.]\r\n",
        "print(t) # ได้ tensor([3.,4.], dtype=torch.float64)"
      ],
      "execution_count": 14,
      "outputs": [
        {
          "output_type": "stream",
          "text": [
            "[2. 3.]\n",
            "[3. 4.]\n",
            "tensor([3., 4.])\n"
          ],
          "name": "stdout"
        }
      ]
    },
    {
      "cell_type": "code",
      "metadata": {
        "colab": {
          "base_uri": "https://localhost:8080/"
        },
        "id": "WnYHQrI73nZJ",
        "outputId": "4d77ef75-ac16-4a86-93c0-395087cfc79d"
      },
      "source": [
        "t = torch.Tensor([2,3])\r\n",
        "b = np.array(t.data)\r\n",
        "b += 1\r\n",
        "print(b) # ได้ [ 3.  4.]\r\n",
        "print(t) # ได้ tensor([2., 3.])"
      ],
      "execution_count": 15,
      "outputs": [
        {
          "output_type": "stream",
          "text": [
            "[3. 4.]\n",
            "tensor([2., 3.])\n"
          ],
          "name": "stdout"
        }
      ]
    },
    {
      "cell_type": "markdown",
      "metadata": {
        "id": "44ipTQ9Y2M5w"
      },
      "source": [
        "# การคำนวณ"
      ]
    },
    {
      "cell_type": "code",
      "metadata": {
        "colab": {
          "base_uri": "https://localhost:8080/"
        },
        "id": "gAdPUze1yonH",
        "outputId": "7ef2763a-89d8-4920-88f0-71d76d72da41"
      },
      "source": [
        "t1 = torch.ones(5,3)\r\n",
        "print(\"t1\")\r\n",
        "print(t1)\r\n",
        "\r\n",
        "t2 = torch.zeros(5,3)\r\n",
        "print(\"t2\")\r\n",
        "print(t2)\r\n",
        "\r\n",
        "print(\"t1+t2\")\r\n",
        "print(t1+t2)\r\n",
        "\r\n",
        "print(\"t1-t2\")\r\n",
        "print(t1-t2)\r\n",
        "\r\n",
        "print(\"t1*t2\")\r\n",
        "print(t1*t2)"
      ],
      "execution_count": 16,
      "outputs": [
        {
          "output_type": "stream",
          "text": [
            "t1\n",
            "tensor([[1., 1., 1.],\n",
            "        [1., 1., 1.],\n",
            "        [1., 1., 1.],\n",
            "        [1., 1., 1.],\n",
            "        [1., 1., 1.]])\n",
            "t2\n",
            "tensor([[0., 0., 0.],\n",
            "        [0., 0., 0.],\n",
            "        [0., 0., 0.],\n",
            "        [0., 0., 0.],\n",
            "        [0., 0., 0.]])\n",
            "t1+t2\n",
            "tensor([[1., 1., 1.],\n",
            "        [1., 1., 1.],\n",
            "        [1., 1., 1.],\n",
            "        [1., 1., 1.],\n",
            "        [1., 1., 1.]])\n",
            "t1-t2\n",
            "tensor([[1., 1., 1.],\n",
            "        [1., 1., 1.],\n",
            "        [1., 1., 1.],\n",
            "        [1., 1., 1.],\n",
            "        [1., 1., 1.]])\n",
            "t1*t2\n",
            "tensor([[0., 0., 0.],\n",
            "        [0., 0., 0.],\n",
            "        [0., 0., 0.],\n",
            "        [0., 0., 0.],\n",
            "        [0., 0., 0.]])\n"
          ],
          "name": "stdout"
        }
      ]
    },
    {
      "cell_type": "markdown",
      "metadata": {
        "id": "Q9B7MUF96J55"
      },
      "source": [
        "## Dot Product"
      ]
    },
    {
      "cell_type": "code",
      "metadata": {
        "colab": {
          "base_uri": "https://localhost:8080/"
        },
        "id": "NvV8J24W6JX3",
        "outputId": "1b567611-0704-4e3f-fdbd-a741ec358641"
      },
      "source": [
        "t1 = torch.ones(5,3)\r\n",
        "t2 = torch.Tensor(3,5).fill_(2)\r\n",
        "print(\"t1\")\r\n",
        "print(t1)\r\n",
        "\r\n",
        "print(\"t2\")\r\n",
        "print(t2)\r\n",
        "\r\n",
        "print(\"dot product\")\r\n",
        "print(torch.matmul(t1,t2))"
      ],
      "execution_count": 17,
      "outputs": [
        {
          "output_type": "stream",
          "text": [
            "t1\n",
            "tensor([[1., 1., 1.],\n",
            "        [1., 1., 1.],\n",
            "        [1., 1., 1.],\n",
            "        [1., 1., 1.],\n",
            "        [1., 1., 1.]])\n",
            "t2\n",
            "tensor([[2., 2., 2., 2., 2.],\n",
            "        [2., 2., 2., 2., 2.],\n",
            "        [2., 2., 2., 2., 2.]])\n",
            "dot product\n",
            "tensor([[6., 6., 6., 6., 6.],\n",
            "        [6., 6., 6., 6., 6.],\n",
            "        [6., 6., 6., 6., 6.],\n",
            "        [6., 6., 6., 6., 6.],\n",
            "        [6., 6., 6., 6., 6.]])\n"
          ],
          "name": "stdout"
        }
      ]
    },
    {
      "cell_type": "code",
      "metadata": {
        "colab": {
          "base_uri": "https://localhost:8080/"
        },
        "id": "D0Cjh8W97G8M",
        "outputId": "303d040e-e7ab-48ca-f407-1618d1aef90b"
      },
      "source": [
        "t = torch.ones(5,3)\r\n",
        "print(t.mean()) # ได้ tensor(1.)\r\n",
        "print(t.sum()) # ได้ tensor(15.)\r\n",
        "print(t.std()) # ได้ tensor(0.)\r\n",
        "print(t.max())\r\n",
        "print(t.min())"
      ],
      "execution_count": 18,
      "outputs": [
        {
          "output_type": "stream",
          "text": [
            "tensor(1.)\n",
            "tensor(15.)\n",
            "tensor(0.)\n",
            "tensor(1.)\n",
            "tensor(1.)\n"
          ],
          "name": "stdout"
        }
      ]
    },
    {
      "cell_type": "markdown",
      "metadata": {
        "id": "KxR94V7T71Xp"
      },
      "source": [
        "# การเปลี่ยนรูปร่าง"
      ]
    },
    {
      "cell_type": "code",
      "metadata": {
        "colab": {
          "base_uri": "https://localhost:8080/"
        },
        "id": "aZmWVhW07Nhs",
        "outputId": "f9a190cc-1bbd-4d4f-9ada-7904f79c6141"
      },
      "source": [
        "t = torch.ones(5,3)\r\n",
        "print(t)\r\n",
        "print(t.view(1,15))\r\n",
        "print(t.view(3,5))"
      ],
      "execution_count": 19,
      "outputs": [
        {
          "output_type": "stream",
          "text": [
            "tensor([[1., 1., 1.],\n",
            "        [1., 1., 1.],\n",
            "        [1., 1., 1.],\n",
            "        [1., 1., 1.],\n",
            "        [1., 1., 1.]])\n",
            "tensor([[1., 1., 1., 1., 1., 1., 1., 1., 1., 1., 1., 1., 1., 1., 1.]])\n",
            "tensor([[1., 1., 1., 1., 1.],\n",
            "        [1., 1., 1., 1., 1.],\n",
            "        [1., 1., 1., 1., 1.]])\n"
          ],
          "name": "stdout"
        }
      ]
    },
    {
      "cell_type": "code",
      "metadata": {
        "colab": {
          "base_uri": "https://localhost:8080/"
        },
        "id": "dMNmLaCe8Ugx",
        "outputId": "9529e6f7-879f-4dba-9ca2-101ae1de507c"
      },
      "source": [
        "print(t.flatten())"
      ],
      "execution_count": 20,
      "outputs": [
        {
          "output_type": "stream",
          "text": [
            "tensor([1., 1., 1., 1., 1., 1., 1., 1., 1., 1., 1., 1., 1., 1., 1.])\n"
          ],
          "name": "stdout"
        }
      ]
    },
    {
      "cell_type": "markdown",
      "metadata": {
        "id": "YP0JEw45_SGR"
      },
      "source": [
        "# การใช้ GPU"
      ]
    },
    {
      "cell_type": "code",
      "metadata": {
        "id": "wHnFtLFt_fBu"
      },
      "source": [
        "device = torch.device(\"cuda\")\r\n",
        "t = torch.ones(5,3).to(device)"
      ],
      "execution_count": 21,
      "outputs": []
    },
    {
      "cell_type": "markdown",
      "metadata": {
        "id": "J9AHuUCUAAGO"
      },
      "source": [
        "# Neural Network"
      ]
    },
    {
      "cell_type": "markdown",
      "metadata": {
        "id": "CqzvM7dq6PGp"
      },
      "source": [
        "## อนุพันธ์"
      ]
    },
    {
      "cell_type": "code",
      "metadata": {
        "id": "njTNE4EF9HPk",
        "colab": {
          "base_uri": "https://localhost:8080/"
        },
        "outputId": "7d996fb9-29a1-4eca-ba87-69d1a8f80064"
      },
      "source": [
        "x = torch.ones(1,5)\r\n",
        "w = torch.Tensor(5,1).fill_(2)\r\n",
        "\r\n",
        "w.requires_grad = True\r\n",
        "y = torch.matmul(x,w)\r\n",
        "\r\n",
        "y.backward()\r\n",
        "print(y.grad)\r\n",
        "print(w.grad)\r\n",
        "print(x.grad)"
      ],
      "execution_count": 22,
      "outputs": [
        {
          "output_type": "stream",
          "text": [
            "None\n",
            "tensor([[1.],\n",
            "        [1.],\n",
            "        [1.],\n",
            "        [1.],\n",
            "        [1.]])\n",
            "None\n"
          ],
          "name": "stdout"
        },
        {
          "output_type": "stream",
          "text": [
            "/usr/local/lib/python3.6/dist-packages/ipykernel_launcher.py:8: UserWarning: The .grad attribute of a Tensor that is not a leaf Tensor is being accessed. Its .grad attribute won't be populated during autograd.backward(). If you indeed want the gradient for a non-leaf Tensor, use .retain_grad() on the non-leaf Tensor. If you access the non-leaf Tensor by mistake, make sure you access the leaf Tensor instead. See github.com/pytorch/pytorch/pull/30531 for more informations.\n",
            "  \n"
          ],
          "name": "stderr"
        }
      ]
    },
    {
      "cell_type": "markdown",
      "metadata": {
        "id": "DukTG1z7z1Vh"
      },
      "source": [
        "## การสร้าง Layer"
      ]
    },
    {
      "cell_type": "code",
      "metadata": {
        "id": "yfMLnSZy_g3T"
      },
      "source": [
        "linear_layer = torch.nn.Linear(2,3)"
      ],
      "execution_count": 23,
      "outputs": []
    },
    {
      "cell_type": "code",
      "metadata": {
        "id": "nVvr06_H1RPj",
        "colab": {
          "base_uri": "https://localhost:8080/"
        },
        "outputId": "fc7c91a9-ef5c-4c4d-fb35-6371ffe5ff56"
      },
      "source": [
        "linear_layer.weight"
      ],
      "execution_count": 24,
      "outputs": [
        {
          "output_type": "execute_result",
          "data": {
            "text/plain": [
              "Parameter containing:\n",
              "tensor([[ 0.4667, -0.6443],\n",
              "        [-0.6723, -0.3411],\n",
              "        [ 0.6209, -0.1178]], requires_grad=True)"
            ]
          },
          "metadata": {
            "tags": []
          },
          "execution_count": 24
        }
      ]
    },
    {
      "cell_type": "code",
      "metadata": {
        "id": "gm7nBF5xvJpt",
        "colab": {
          "base_uri": "https://localhost:8080/"
        },
        "outputId": "98bae9b8-9772-4772-fd5f-9db08d500b4f"
      },
      "source": [
        "import torch\r\n",
        "import torch.nn.functional as F\r\n",
        "\r\n",
        "class TestNeuralNetwork(torch.nn.Module):\r\n",
        "    def __init__(self):\r\n",
        "        super(TestNeuralNetwork,self).__init__()\r\n",
        "        self.linearLayer1 = torch.nn.Linear(2,3)\r\n",
        "        self.linearLayer2 = torch.nn.Linear(3,3)\r\n",
        "        self.linearLayer3 = torch.nn.Linear(3,2)\r\n",
        "    \r\n",
        "    def forward(self,x):\r\n",
        "        h1 = self.linearLayer1(x)\r\n",
        "        a1 = F.relu(h1)\r\n",
        "        h2 = self.linearLayer2(a1)\r\n",
        "        a2 = F.relu(h2)\r\n",
        "        h3 = self.linearLayer3(a2)\r\n",
        "        return h3\r\n",
        "\r\n",
        "nn = TestNeuralNetwork()\r\n",
        "print(nn)\r\n"
      ],
      "execution_count": 25,
      "outputs": [
        {
          "output_type": "stream",
          "text": [
            "TestNeuralNetwork(\n",
            "  (linearLayer1): Linear(in_features=2, out_features=3, bias=True)\n",
            "  (linearLayer2): Linear(in_features=3, out_features=3, bias=True)\n",
            "  (linearLayer3): Linear(in_features=3, out_features=2, bias=True)\n",
            ")\n"
          ],
          "name": "stdout"
        }
      ]
    },
    {
      "cell_type": "code",
      "metadata": {
        "id": "af069mc_yIWc",
        "colab": {
          "base_uri": "https://localhost:8080/"
        },
        "outputId": "7a93b70c-9339-49ac-ad3d-a6bb30f81dba"
      },
      "source": [
        "nn = TestNeuralNetwork()\r\n",
        "\r\n",
        "input = torch.Tensor([1,1])\r\n",
        "output = nn(input) #จะทำการเรียก Method ที่ชื่อว่า Forward\r\n",
        "print(output)"
      ],
      "execution_count": 26,
      "outputs": [
        {
          "output_type": "stream",
          "text": [
            "tensor([ 0.1346, -0.3193], grad_fn=<AddBackward0>)\n"
          ],
          "name": "stdout"
        }
      ]
    },
    {
      "cell_type": "markdown",
      "metadata": {
        "id": "89MdDX-kml46"
      },
      "source": [
        "## ทดสอบสร้าง Neural Network สำหรับการจำแนกข้อมูลออกเป็น 2 กลุ่ม"
      ]
    },
    {
      "cell_type": "markdown",
      "metadata": {
        "id": "X3tgns08-m1u"
      },
      "source": [
        "## จำลองข้อมูล"
      ]
    },
    {
      "cell_type": "code",
      "metadata": {
        "id": "GeBm_MsZmkyK",
        "colab": {
          "base_uri": "https://localhost:8080/",
          "height": 265
        },
        "outputId": "5b35b2ee-87cc-43a5-ce56-a6c076e03a89"
      },
      "source": [
        "import numpy as np\r\n",
        "import matplotlib.pyplot as plt\r\n",
        "\r\n",
        "z = np.arange(2).repeat(40) #กำหนดให้มี 2 สีจำนวนสีละ 40 จุด\r\n",
        "r = np.random.normal(z+1,0.25) #กำหนดรัศมีให้ห่างกันในแต่ละสี\r\n",
        "t = np.random.uniform(0,np.pi,80) #สุ่มค่าตั้งแต่ 0 ถึงค่า pi\r\n",
        "x = r*np.cos(t)\r\n",
        "y = r*np.sin(t)\r\n",
        "X = np.array([x,y]).T\r\n",
        "plt.scatter(x,y,c=z,edgecolor='k')\r\n",
        "plt.show()"
      ],
      "execution_count": 27,
      "outputs": [
        {
          "output_type": "display_data",
          "data": {
            "image/png": "[encoded data removed]",
            "text/plain": [
              "<Figure size 432x288 with 1 Axes>"
            ]
          },
          "metadata": {
            "tags": [],
            "needs_background": "light"
          }
        }
      ]
    },
    {
      "cell_type": "markdown",
      "metadata": {
        "id": "s8V6g5Oj-r1h"
      },
      "source": [
        "## สร้าง Neural Network"
      ]
    },
    {
      "cell_type": "code",
      "metadata": {
        "id": "aEolEpERm8GH"
      },
      "source": [
        "import torch\r\n",
        "import torch.nn.functional as F\r\n",
        "\r\n",
        "class TestNeuralNetwork(torch.nn.Module):\r\n",
        "    def __init__(self):\r\n",
        "        super(TestNeuralNetwork,self).__init__()\r\n",
        "        self.linearLayer1 = torch.nn.Linear(2,3)\r\n",
        "        self.linearLayer2 = torch.nn.Linear(3,3)\r\n",
        "        self.linearLayer3 = torch.nn.Linear(3,2)\r\n",
        "    \r\n",
        "    def forward(self,x):\r\n",
        "        h1 = self.linearLayer1(x)\r\n",
        "        a1 = F.relu(h1)\r\n",
        "        h2 = self.linearLayer2(a1)\r\n",
        "        a2 = F.relu(h2)\r\n",
        "        h3 = self.linearLayer3(a2)\r\n",
        "        return h3\r\n",
        "\r\n",
        "\r\n",
        "\r\n",
        "X = torch.Tensor(X)  #แปลงเป็นค่า X ให้อยู่ใน Tensor\r\n",
        "z = torch.LongTensor(z) #แปลงเป็นค่า z ให้อยู่ใน Tensor\r\n",
        "nn = TestNeuralNetwork() \r\n",
        "\r\n",
        "optimizer = torch.optim.Adam(nn.parameters(),lr=0.1)  # สร้าง Optimizer แบบวิธี Adam พร้อมทั้งต้องระบุว่าจะให้ Opimizer ปรับค่า Weight ในตัวแปรชื่อว่า nn\r\n",
        "cross_entropy = torch.nn.CrossEntropyLoss()\r\n",
        "for i in range(200): #วนลูปเพื่อทำการ train\r\n",
        "    a = nn(X)\r\n",
        "    output = cross_entropy(a,z)\r\n",
        "    output.backward()\r\n",
        "    optimizer.step()      #ให้ Optimizer ทำการปรับค่า Weight\r\n",
        "    optimizer.zero_grad() #ปรับให้ grad มีค่าเป็น 0 เพราะหากไม่ปรับค่าเป็น 0 ในการคำนวณรอบต่อไป grad จะกลายเป็นค่าที่บวกจากของเก่าเพิ่มขึ้นเรื่อยๆ"
      ],
      "execution_count": 28,
      "outputs": []
    },
    {
      "cell_type": "markdown",
      "metadata": {
        "id": "dNfYrS1cAhUV"
      },
      "source": [
        "## วาดกราฟแสดงผล"
      ]
    },
    {
      "cell_type": "code",
      "metadata": {
        "id": "aLHdchq7-kRF",
        "colab": {
          "base_uri": "https://localhost:8080/",
          "height": 265
        },
        "outputId": "23242100-f31f-4463-bbf5-4f7ebd3aa2b1"
      },
      "source": [
        "predict_z = nn(X).argmax(1)\r\n",
        "\r\n",
        "plt.scatter(x,y,c=predict_z,edgecolor='k')\r\n",
        "plt.show()"
      ],
      "execution_count": 40,
      "outputs": [
        {
          "output_type": "display_data",
          "data": {
            "image/png": "[encoded data removed]",
            "text/plain": [
              "<Figure size 432x288 with 1 Axes>"
            ]
          },
          "metadata": {
            "tags": [],
            "needs_background": "light"
          }
        }
      ]
    }
  ]
}