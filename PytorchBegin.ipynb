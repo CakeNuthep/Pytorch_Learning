{
  "nbformat": 4,
  "nbformat_minor": 0,
  "metadata": {
    "colab": {
      "name": "Pytorch.ipynb",
      "provenance": [],
      "authorship_tag": "ABX9TyPa9OR2tXaXfJNZuCsCXN/X",
      "include_colab_link": true
    },
    "kernelspec": {
      "name": "python3",
      "display_name": "Python 3"
    },
    "accelerator": "GPU"
  },
  "cells": [
    {
      "cell_type": "markdown",
      "metadata": {
        "id": "view-in-github",
        "colab_type": "text"
      },
      "source": [
        "<a href=\"https://colab.research.google.com/github/CakeNuthep/Pytorch_Learning/blob/main/PytorchBegin.ipynb\" target=\"_parent\"><img src=\"https://colab.research.google.com/assets/colab-badge.svg\" alt=\"Open In Colab\"/></a>"
      ]
    },
    {
      "cell_type": "markdown",
      "metadata": {
        "id": "fKkl5JUu11vM"
      },
      "source": [
        "# การติดตั้ง"
      ]
    },
    {
      "cell_type": "code",
      "metadata": {
        "id": "L4-Aj9LuvVaJ"
      },
      "source": [
        "import torch"
      ],
      "execution_count": 1,
      "outputs": []
    },
    {
      "cell_type": "code",
      "metadata": {
        "colab": {
          "base_uri": "https://localhost:8080/"
        },
        "id": "vyJ1JUvDwLtF",
        "outputId": "24ed07cf-04aa-401e-f926-83ad94c6e6cb"
      },
      "source": [
        "print(torch.__version__)"
      ],
      "execution_count": 2,
      "outputs": [
        {
          "output_type": "stream",
          "text": [
            "1.7.0+cu101\n"
          ],
          "name": "stdout"
        }
      ]
    },
    {
      "cell_type": "code",
      "metadata": {
        "id": "rxAOW7lwddy0",
        "outputId": "f558b76f-58df-4e7d-9be1-7daf38c54121",
        "colab": {
          "base_uri": "https://localhost:8080/"
        }
      },
      "source": [
        "torch.cuda.is_available()"
      ],
      "execution_count": 3,
      "outputs": [
        {
          "output_type": "execute_result",
          "data": {
            "text/plain": [
              "True"
            ]
          },
          "metadata": {
            "tags": []
          },
          "execution_count": 3
        }
      ]
    },
    {
      "cell_type": "markdown",
      "metadata": {
        "id": "CiZhg11w16cu"
      },
      "source": [
        "# การใช้ง่าน Tensor ใน Torch"
      ]
    },
    {
      "cell_type": "code",
      "metadata": {
        "colab": {
          "base_uri": "https://localhost:8080/"
        },
        "id": "pBryesynxAeE",
        "outputId": "e4c2ec37-9537-4e23-d851-db8919dcb2fc"
      },
      "source": [
        "x = torch.rand(3,4,dtype = torch.float32)\r\n",
        "dtype = print(x)"
      ],
      "execution_count": 7,
      "outputs": [
        {
          "output_type": "stream",
          "text": [
            "tensor([[0.7731, 0.2842, 0.2401, 0.1534],\n",
            "        [0.5628, 0.3804, 0.7206, 0.4625],\n",
            "        [0.1266, 0.8425, 0.9594, 0.0886]])\n"
          ],
          "name": "stdout"
        }
      ]
    },
    {
      "cell_type": "code",
      "metadata": {
        "colab": {
          "base_uri": "https://localhost:8080/"
        },
        "id": "gKGSrDDnxKLf",
        "outputId": "8bea8b85-75ff-46a9-b930-5363867f6d30"
      },
      "source": [
        "x = torch.zeros(5,3, dtype= torch.long)\r\n",
        "print(x)"
      ],
      "execution_count": 8,
      "outputs": [
        {
          "output_type": "stream",
          "text": [
            "tensor([[0, 0, 0],\n",
            "        [0, 0, 0],\n",
            "        [0, 0, 0],\n",
            "        [0, 0, 0],\n",
            "        [0, 0, 0]])\n"
          ],
          "name": "stdout"
        }
      ]
    },
    {
      "cell_type": "code",
      "metadata": {
        "id": "40-v1QUQd88e",
        "outputId": "e9c58b87-b09e-4c5a-a6c2-e6e1b3f5373c",
        "colab": {
          "base_uri": "https://localhost:8080/"
        }
      },
      "source": [
        "x = x.new_ones(5,3,dtype=torch.float64)\r\n",
        "print(x)"
      ],
      "execution_count": 9,
      "outputs": [
        {
          "output_type": "stream",
          "text": [
            "tensor([[1., 1., 1.],\n",
            "        [1., 1., 1.],\n",
            "        [1., 1., 1.],\n",
            "        [1., 1., 1.],\n",
            "        [1., 1., 1.]], dtype=torch.float64)\n"
          ],
          "name": "stdout"
        }
      ]
    },
    {
      "cell_type": "code",
      "metadata": {
        "colab": {
          "base_uri": "https://localhost:8080/"
        },
        "id": "jT5oOGYbxX3O",
        "outputId": "fb6022a1-a69d-455f-9b43-d7a220bc50f2"
      },
      "source": [
        "x = torch.tensor([4.123,3])\r\n",
        "print(x)"
      ],
      "execution_count": 10,
      "outputs": [
        {
          "output_type": "stream",
          "text": [
            "tensor([4.1230, 3.0000])\n"
          ],
          "name": "stdout"
        }
      ]
    },
    {
      "cell_type": "code",
      "metadata": {
        "colab": {
          "base_uri": "https://localhost:8080/"
        },
        "id": "-rGxogQNxvXu",
        "outputId": "1337bd5c-addb-4c65-b086-40ad0176c5ed"
      },
      "source": [
        "x = torch.randn_like(x, dtype=torch.float32)   #result has the same size\r\n",
        "print(x)"
      ],
      "execution_count": 11,
      "outputs": [
        {
          "output_type": "stream",
          "text": [
            "tensor([-0.0630, -0.1950])\n"
          ],
          "name": "stdout"
        }
      ]
    },
    {
      "cell_type": "code",
      "metadata": {
        "id": "LuL65E5AeKL_",
        "outputId": "dd945770-5a34-45f0-9aa9-6e9692c3e55f",
        "colab": {
          "base_uri": "https://localhost:8080/"
        }
      },
      "source": [
        "x = torch.Tensor(5,3).fill_(7)\r\n",
        "print(x)"
      ],
      "execution_count": 12,
      "outputs": [
        {
          "output_type": "stream",
          "text": [
            "tensor([[7., 7., 7.],\n",
            "        [7., 7., 7.],\n",
            "        [7., 7., 7.],\n",
            "        [7., 7., 7.],\n",
            "        [7., 7., 7.]])\n"
          ],
          "name": "stdout"
        }
      ]
    },
    {
      "cell_type": "code",
      "metadata": {
        "id": "bOmJDnnpeYqv",
        "outputId": "f05cc9bf-ca5f-47f2-cf71-f450b1552c85",
        "colab": {
          "base_uri": "https://localhost:8080/"
        }
      },
      "source": [
        "x = torch.Tensor(5,3).fill_(7).type(torch.int)\r\n",
        "print(x)"
      ],
      "execution_count": 14,
      "outputs": [
        {
          "output_type": "stream",
          "text": [
            "tensor([[7, 7, 7],\n",
            "        [7, 7, 7],\n",
            "        [7, 7, 7],\n",
            "        [7, 7, 7],\n",
            "        [7, 7, 7]], dtype=torch.int32)\n"
          ],
          "name": "stdout"
        }
      ]
    },
    {
      "cell_type": "code",
      "metadata": {
        "colab": {
          "base_uri": "https://localhost:8080/"
        },
        "id": "5mxaAJUb05z5",
        "outputId": "693eaf2a-c2e9-4d1d-d286-a591d7b37791"
      },
      "source": [
        "torch.manual_seed(1)\r\n",
        "x = torch.randn(5,3)\r\n",
        "print(x)"
      ],
      "execution_count": 15,
      "outputs": [
        {
          "output_type": "stream",
          "text": [
            "tensor([[ 0.6614,  0.2669,  0.0617],\n",
            "        [ 0.6213, -0.4519, -0.1661],\n",
            "        [-1.5228,  0.3817, -1.0276],\n",
            "        [-0.5631, -0.8923, -0.0583],\n",
            "        [-0.1955, -0.9656,  0.4224]])\n"
          ],
          "name": "stdout"
        }
      ]
    },
    {
      "cell_type": "markdown",
      "metadata": {
        "id": "LfF5dOg12MVp"
      },
      "source": [
        "# การแปลงไปมาระหว่าง numpy กับ Tensor"
      ]
    },
    {
      "cell_type": "code",
      "metadata": {
        "colab": {
          "base_uri": "https://localhost:8080/"
        },
        "id": "JM6Xz5CB2ZXy",
        "outputId": "803ddff4-d1fe-4b5f-e0cb-5a4854fdd8df"
      },
      "source": [
        "import numpy as np\r\n",
        "a = np.array([1.,3.])\r\n",
        "t = torch.from_numpy(a)\r\n",
        "print(t) # ได้ tensor([1.,3.])\r\n",
        "print(a) # ได้ [ 1.,3.]\r\n",
        "t += 1\r\n",
        "print(t) # ได้ tensor([2.,4.])\r\n",
        "print(a) # ได้ [ 2.,4.]"
      ],
      "execution_count": null,
      "outputs": [
        {
          "output_type": "stream",
          "text": [
            "tensor([1., 3.], dtype=torch.float64)\n",
            "[1. 3.]\n",
            "tensor([2., 4.], dtype=torch.float64)\n",
            "[2. 4.]\n"
          ],
          "name": "stdout"
        }
      ]
    },
    {
      "cell_type": "code",
      "metadata": {
        "colab": {
          "base_uri": "https://localhost:8080/"
        },
        "id": "sqt8UMsF3hEP",
        "outputId": "4ce11e4e-8c08-47b2-dd06-fa0597a94d80"
      },
      "source": [
        "a = np.array([1.,3.])\r\n",
        "t = torch.Tensor(a)\r\n",
        "print(t) # ได้ tensor([1.,3.])\r\n",
        "print(a) # ได้ [ 1.,3.]\r\n",
        "t += 1\r\n",
        "print(t) # ได้ tensor([2.,4.])\r\n",
        "print(a) # ได้ [ 1.,3.]"
      ],
      "execution_count": null,
      "outputs": [
        {
          "output_type": "stream",
          "text": [
            "tensor([1., 3.])\n",
            "[1. 3.]\n",
            "tensor([2., 4.])\n",
            "[1. 3.]\n"
          ],
          "name": "stdout"
        }
      ]
    },
    {
      "cell_type": "code",
      "metadata": {
        "colab": {
          "base_uri": "https://localhost:8080/"
        },
        "id": "7WSIORCE2kYu",
        "outputId": "bcae2ae3-1196-45c2-9a52-849419cf4c7a"
      },
      "source": [
        "t = torch.Tensor([2,3])\r\n",
        "b = t.numpy()\r\n",
        "print(b) # ได้ [ 2.,3.]\r\n",
        "b += 1\r\n",
        "print(b) # ได้ [ 3.,4.]\r\n",
        "print(t) # ได้ tensor([3.,4.], dtype=torch.float64)"
      ],
      "execution_count": null,
      "outputs": [
        {
          "output_type": "stream",
          "text": [
            "[2. 3.]\n",
            "[3. 4.]\n",
            "tensor([3., 4.])\n"
          ],
          "name": "stdout"
        }
      ]
    },
    {
      "cell_type": "code",
      "metadata": {
        "colab": {
          "base_uri": "https://localhost:8080/"
        },
        "id": "WnYHQrI73nZJ",
        "outputId": "94080614-c351-478e-8394-c893eafa8526"
      },
      "source": [
        "t = torch.Tensor([2,3])\r\n",
        "b = np.array(t.data)\r\n",
        "b += 1\r\n",
        "print(b) # ได้ [ 3.  4.]\r\n",
        "print(t) # ได้ tensor([2., 3.])"
      ],
      "execution_count": null,
      "outputs": [
        {
          "output_type": "stream",
          "text": [
            "[3. 4.]\n",
            "tensor([2., 3.])\n"
          ],
          "name": "stdout"
        }
      ]
    },
    {
      "cell_type": "markdown",
      "metadata": {
        "id": "44ipTQ9Y2M5w"
      },
      "source": [
        "# การคำนวณ"
      ]
    },
    {
      "cell_type": "code",
      "metadata": {
        "colab": {
          "base_uri": "https://localhost:8080/"
        },
        "id": "gAdPUze1yonH",
        "outputId": "49bd547b-d2c5-48b9-8455-bbee6ca2d7cb"
      },
      "source": [
        "t1 = torch.ones(5,3)\r\n",
        "print(\"t1\")\r\n",
        "print(t1)\r\n",
        "\r\n",
        "t2 = torch.zeros(5,3)\r\n",
        "print(\"t2\")\r\n",
        "print(t2)\r\n",
        "\r\n",
        "print(\"t1+t2\")\r\n",
        "print(t1+t2)\r\n",
        "\r\n",
        "print(\"t1-t2\")\r\n",
        "print(t1-t2)\r\n",
        "\r\n",
        "print(\"t1*t2\")\r\n",
        "print(t1*t2)"
      ],
      "execution_count": null,
      "outputs": [
        {
          "output_type": "stream",
          "text": [
            "t1\n",
            "tensor([[1., 1., 1.],\n",
            "        [1., 1., 1.],\n",
            "        [1., 1., 1.],\n",
            "        [1., 1., 1.],\n",
            "        [1., 1., 1.]])\n",
            "t2\n",
            "tensor([[0., 0., 0.],\n",
            "        [0., 0., 0.],\n",
            "        [0., 0., 0.],\n",
            "        [0., 0., 0.],\n",
            "        [0., 0., 0.]])\n",
            "t1+t2\n",
            "tensor([[1., 1., 1.],\n",
            "        [1., 1., 1.],\n",
            "        [1., 1., 1.],\n",
            "        [1., 1., 1.],\n",
            "        [1., 1., 1.]])\n",
            "t1-t2\n",
            "tensor([[1., 1., 1.],\n",
            "        [1., 1., 1.],\n",
            "        [1., 1., 1.],\n",
            "        [1., 1., 1.],\n",
            "        [1., 1., 1.]])\n",
            "t1*t2\n",
            "tensor([[0., 0., 0.],\n",
            "        [0., 0., 0.],\n",
            "        [0., 0., 0.],\n",
            "        [0., 0., 0.],\n",
            "        [0., 0., 0.]])\n"
          ],
          "name": "stdout"
        }
      ]
    },
    {
      "cell_type": "markdown",
      "metadata": {
        "id": "Q9B7MUF96J55"
      },
      "source": [
        "## Dot Product"
      ]
    },
    {
      "cell_type": "code",
      "metadata": {
        "colab": {
          "base_uri": "https://localhost:8080/"
        },
        "id": "NvV8J24W6JX3",
        "outputId": "75fe0508-4fc1-4fac-b369-d32f3b850b55"
      },
      "source": [
        "t1 = torch.ones(5,3)\r\n",
        "t2 = torch.Tensor(3,5).fill_(2)\r\n",
        "print(\"t1\")\r\n",
        "print(t1)\r\n",
        "\r\n",
        "print(\"t2\")\r\n",
        "print(t2)\r\n",
        "\r\n",
        "print(\"dot product\")\r\n",
        "print(torch.matmul(t1,t2))"
      ],
      "execution_count": null,
      "outputs": [
        {
          "output_type": "stream",
          "text": [
            "t1\n",
            "tensor([[1., 1., 1.],\n",
            "        [1., 1., 1.],\n",
            "        [1., 1., 1.],\n",
            "        [1., 1., 1.],\n",
            "        [1., 1., 1.]])\n",
            "t2\n",
            "tensor([[2., 2., 2., 2., 2.],\n",
            "        [2., 2., 2., 2., 2.],\n",
            "        [2., 2., 2., 2., 2.]])\n",
            "dot product\n",
            "tensor([[6., 6., 6., 6., 6.],\n",
            "        [6., 6., 6., 6., 6.],\n",
            "        [6., 6., 6., 6., 6.],\n",
            "        [6., 6., 6., 6., 6.],\n",
            "        [6., 6., 6., 6., 6.]])\n"
          ],
          "name": "stdout"
        }
      ]
    },
    {
      "cell_type": "code",
      "metadata": {
        "colab": {
          "base_uri": "https://localhost:8080/"
        },
        "id": "D0Cjh8W97G8M",
        "outputId": "b513c574-d78a-41c2-8b24-7eca157c706b"
      },
      "source": [
        "t = torch.ones(5,3)\r\n",
        "print(t.mean()) # ได้ tensor(1.)\r\n",
        "print(t.sum()) # ได้ tensor(15.)\r\n",
        "print(t.std()) # ได้ tensor(0.)\r\n",
        "print(t.max())\r\n",
        "print(t.min())"
      ],
      "execution_count": null,
      "outputs": [
        {
          "output_type": "stream",
          "text": [
            "tensor(1.)\n",
            "tensor(15.)\n",
            "tensor(0.)\n",
            "tensor(1.)\n",
            "tensor(1.)\n"
          ],
          "name": "stdout"
        }
      ]
    },
    {
      "cell_type": "markdown",
      "metadata": {
        "id": "KxR94V7T71Xp"
      },
      "source": [
        "# การเปลี่ยนรูปร่าง"
      ]
    },
    {
      "cell_type": "code",
      "metadata": {
        "colab": {
          "base_uri": "https://localhost:8080/"
        },
        "id": "aZmWVhW07Nhs",
        "outputId": "5a413e28-ee68-48e2-ffde-6973d90f8f30"
      },
      "source": [
        "t = torch.ones(5,3)\r\n",
        "print(t)\r\n",
        "print(t.view(1,15))\r\n",
        "print(t.view(3,5))"
      ],
      "execution_count": null,
      "outputs": [
        {
          "output_type": "stream",
          "text": [
            "tensor([[1., 1., 1.],\n",
            "        [1., 1., 1.],\n",
            "        [1., 1., 1.],\n",
            "        [1., 1., 1.],\n",
            "        [1., 1., 1.]])\n",
            "tensor([[1., 1., 1., 1., 1., 1., 1., 1., 1., 1., 1., 1., 1., 1., 1.]])\n",
            "tensor([[1., 1., 1., 1., 1.],\n",
            "        [1., 1., 1., 1., 1.],\n",
            "        [1., 1., 1., 1., 1.]])\n"
          ],
          "name": "stdout"
        }
      ]
    },
    {
      "cell_type": "code",
      "metadata": {
        "colab": {
          "base_uri": "https://localhost:8080/"
        },
        "id": "dMNmLaCe8Ugx",
        "outputId": "d0061261-103b-4cd8-fa6d-51d4cf3fb401"
      },
      "source": [
        "print(t.flatten())"
      ],
      "execution_count": null,
      "outputs": [
        {
          "output_type": "stream",
          "text": [
            "tensor([1., 1., 1., 1., 1., 1., 1., 1., 1., 1., 1., 1., 1., 1., 1.])\n"
          ],
          "name": "stdout"
        }
      ]
    },
    {
      "cell_type": "markdown",
      "metadata": {
        "id": "YP0JEw45_SGR"
      },
      "source": [
        "# การใช้ GPU"
      ]
    },
    {
      "cell_type": "code",
      "metadata": {
        "id": "wHnFtLFt_fBu"
      },
      "source": [
        "device = torch.device(\"cuda\")\r\n",
        "t = torch.ones(5,3).to(device)"
      ],
      "execution_count": null,
      "outputs": []
    },
    {
      "cell_type": "markdown",
      "metadata": {
        "id": "J9AHuUCUAAGO"
      },
      "source": [
        "# Neural Network"
      ]
    },
    {
      "cell_type": "code",
      "metadata": {
        "id": "yfMLnSZy_g3T"
      },
      "source": [
        ""
      ],
      "execution_count": null,
      "outputs": []
    }
  ]
}