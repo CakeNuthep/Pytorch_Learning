{
  "nbformat": 4,
  "nbformat_minor": 0,
  "metadata": {
    "colab": {
      "name": "Video PyTorch.ipynb",
      "provenance": [],
      "collapsed_sections": [],
      "authorship_tag": "ABX9TyNlnrMuGW79tPlqBQ7huX7q",
      "include_colab_link": true
    },
    "kernelspec": {
      "name": "python3",
      "display_name": "Python 3"
    },
    "accelerator": "GPU"
  },
  "cells": [
    {
      "cell_type": "markdown",
      "metadata": {
        "id": "view-in-github",
        "colab_type": "text"
      },
      "source": [
        "<a href=\"https://colab.research.google.com/github/CakeNuthep/Pytorch_Learning/blob/main/PyTorch_Neural_Network.ipynb\" target=\"_parent\"><img src=\"https://colab.research.google.com/assets/colab-badge.svg\" alt=\"Open In Colab\"/></a>"
      ]
    },
    {
      "cell_type": "markdown",
      "metadata": {
        "id": "fKkl5JUu11vM"
      },
      "source": [
        "# การติดตั้ง"
      ]
    },
    {
      "cell_type": "code",
      "metadata": {
        "id": "L4-Aj9LuvVaJ"
      },
      "source": [
        "import torch"
      ],
      "execution_count": 34,
      "outputs": []
    },
    {
      "cell_type": "code",
      "metadata": {
        "colab": {
          "base_uri": "https://localhost:8080/"
        },
        "id": "vyJ1JUvDwLtF",
        "outputId": "c1d8e70a-bee3-4a7f-a37e-915f9e871b85"
      },
      "source": [
        "print(torch.__version__)"
      ],
      "execution_count": 35,
      "outputs": [
        {
          "output_type": "stream",
          "text": [
            "1.7.0+cu101\n"
          ],
          "name": "stdout"
        }
      ]
    },
    {
      "cell_type": "markdown",
      "metadata": {
        "id": "CiZhg11w16cu"
      },
      "source": [
        "# การใช้ง่าน Tensor ใน PyTorch"
      ]
    },
    {
      "cell_type": "code",
      "metadata": {
        "colab": {
          "base_uri": "https://localhost:8080/"
        },
        "id": "pBryesynxAeE",
        "outputId": "5246b9f4-20e2-4e29-a3d4-87ee65366a65"
      },
      "source": [
        "x = torch.rand(3,4,dtype = torch.float32)\r\n",
        "dtype = print(x)"
      ],
      "execution_count": 36,
      "outputs": [
        {
          "output_type": "stream",
          "text": [
            "tensor([[2.2825e-01, 2.3981e-01, 4.7952e-01, 3.7433e-01],\n",
            "        [6.7050e-01, 5.8854e-04, 8.5629e-01, 9.3167e-01],\n",
            "        [8.8915e-01, 9.9795e-01, 2.0167e-01, 2.8718e-01]])\n"
          ],
          "name": "stdout"
        }
      ]
    },
    {
      "cell_type": "code",
      "metadata": {
        "colab": {
          "base_uri": "https://localhost:8080/"
        },
        "id": "gKGSrDDnxKLf",
        "outputId": "17418a5b-6610-4ad5-d11b-53379a476021"
      },
      "source": [
        "x = torch.zeros(5,3, dtype= torch.long)\r\n",
        "print(x)"
      ],
      "execution_count": 37,
      "outputs": [
        {
          "output_type": "stream",
          "text": [
            "tensor([[0, 0, 0],\n",
            "        [0, 0, 0],\n",
            "        [0, 0, 0],\n",
            "        [0, 0, 0],\n",
            "        [0, 0, 0]])\n"
          ],
          "name": "stdout"
        }
      ]
    },
    {
      "cell_type": "code",
      "metadata": {
        "id": "40-v1QUQd88e",
        "colab": {
          "base_uri": "https://localhost:8080/"
        },
        "outputId": "6d02cabf-ff92-4e9d-f94b-627125bc2a2b"
      },
      "source": [
        "x = x.new_ones(5,3,dtype=torch.float64)\r\n",
        "print(x)"
      ],
      "execution_count": 38,
      "outputs": [
        {
          "output_type": "stream",
          "text": [
            "tensor([[1., 1., 1.],\n",
            "        [1., 1., 1.],\n",
            "        [1., 1., 1.],\n",
            "        [1., 1., 1.],\n",
            "        [1., 1., 1.]], dtype=torch.float64)\n"
          ],
          "name": "stdout"
        }
      ]
    },
    {
      "cell_type": "code",
      "metadata": {
        "colab": {
          "base_uri": "https://localhost:8080/"
        },
        "id": "jT5oOGYbxX3O",
        "outputId": "201117a5-e234-4c28-bc33-6f9b7955456d"
      },
      "source": [
        "x = torch.tensor([4.123,3])\r\n",
        "print(x)"
      ],
      "execution_count": 39,
      "outputs": [
        {
          "output_type": "stream",
          "text": [
            "tensor([4.1230, 3.0000])\n"
          ],
          "name": "stdout"
        }
      ]
    },
    {
      "cell_type": "code",
      "metadata": {
        "colab": {
          "base_uri": "https://localhost:8080/"
        },
        "id": "-rGxogQNxvXu",
        "outputId": "2f06775c-e908-44c2-cf8d-39b1dbe6514c"
      },
      "source": [
        "x = torch.randn_like(x, dtype=torch.float32)   #result has the same size\r\n",
        "print(x)"
      ],
      "execution_count": 40,
      "outputs": [
        {
          "output_type": "stream",
          "text": [
            "tensor([0.7584, 0.3172])\n"
          ],
          "name": "stdout"
        }
      ]
    },
    {
      "cell_type": "code",
      "metadata": {
        "id": "LuL65E5AeKL_",
        "colab": {
          "base_uri": "https://localhost:8080/"
        },
        "outputId": "534a13f5-52fc-45f1-c5fc-a082f1f14ffa"
      },
      "source": [
        "x = torch.Tensor(5,3).fill_(7)\r\n",
        "print(x)"
      ],
      "execution_count": 41,
      "outputs": [
        {
          "output_type": "stream",
          "text": [
            "tensor([[7., 7., 7.],\n",
            "        [7., 7., 7.],\n",
            "        [7., 7., 7.],\n",
            "        [7., 7., 7.],\n",
            "        [7., 7., 7.]])\n"
          ],
          "name": "stdout"
        }
      ]
    },
    {
      "cell_type": "code",
      "metadata": {
        "id": "bOmJDnnpeYqv",
        "colab": {
          "base_uri": "https://localhost:8080/"
        },
        "outputId": "c7ca3cad-f2bb-459e-e5f5-d318992f7f00"
      },
      "source": [
        "x = torch.Tensor(5,3).fill_(7).type(torch.int)\r\n",
        "print(x)"
      ],
      "execution_count": 42,
      "outputs": [
        {
          "output_type": "stream",
          "text": [
            "tensor([[7, 7, 7],\n",
            "        [7, 7, 7],\n",
            "        [7, 7, 7],\n",
            "        [7, 7, 7],\n",
            "        [7, 7, 7]], dtype=torch.int32)\n"
          ],
          "name": "stdout"
        }
      ]
    },
    {
      "cell_type": "code",
      "metadata": {
        "colab": {
          "base_uri": "https://localhost:8080/"
        },
        "id": "5mxaAJUb05z5",
        "outputId": "2a9ebbe8-3954-4ee1-debd-1b906f8012b4"
      },
      "source": [
        "torch.manual_seed(1)\r\n",
        "x = torch.randn(5,3)\r\n",
        "print(x)"
      ],
      "execution_count": 43,
      "outputs": [
        {
          "output_type": "stream",
          "text": [
            "tensor([[ 0.6614,  0.2669,  0.0617],\n",
            "        [ 0.6213, -0.4519, -0.1661],\n",
            "        [-1.5228,  0.3817, -1.0276],\n",
            "        [-0.5631, -0.8923, -0.0583],\n",
            "        [-0.1955, -0.9656,  0.4224]])\n"
          ],
          "name": "stdout"
        }
      ]
    },
    {
      "cell_type": "code",
      "metadata": {
        "colab": {
          "base_uri": "https://localhost:8080/"
        },
        "id": "7WSIORCE2kYu",
        "outputId": "bb757566-d03d-422f-f6d6-df073ecf40dc"
      },
      "source": [
        "import numpy as np\r\n",
        "np_array = np.array([2,3])\r\n",
        "t = torch.Tensor(np_array)\r\n",
        "print(t)"
      ],
      "execution_count": 44,
      "outputs": [
        {
          "output_type": "stream",
          "text": [
            "tensor([2., 3.])\n"
          ],
          "name": "stdout"
        }
      ]
    },
    {
      "cell_type": "markdown",
      "metadata": {
        "id": "44ipTQ9Y2M5w"
      },
      "source": [
        "# การคำนวณ"
      ]
    },
    {
      "cell_type": "code",
      "metadata": {
        "colab": {
          "base_uri": "https://localhost:8080/"
        },
        "id": "gAdPUze1yonH",
        "outputId": "a804791b-1430-4ceb-ccac-606218db0821"
      },
      "source": [
        "t1 = torch.ones(5,3)\r\n",
        "print(\"t1\")\r\n",
        "print(t1)\r\n",
        "\r\n",
        "t2 = torch.zeros(5,3)\r\n",
        "print(\"t2\")\r\n",
        "print(t2)\r\n",
        "\r\n",
        "print(\"t1+t2\")\r\n",
        "print(t1+t2)\r\n",
        "\r\n",
        "print(\"t1-t2\")\r\n",
        "print(t1-t2)\r\n",
        "\r\n",
        "print(\"t1*t2\")\r\n",
        "print(t1*t2)"
      ],
      "execution_count": 45,
      "outputs": [
        {
          "output_type": "stream",
          "text": [
            "t1\n",
            "tensor([[1., 1., 1.],\n",
            "        [1., 1., 1.],\n",
            "        [1., 1., 1.],\n",
            "        [1., 1., 1.],\n",
            "        [1., 1., 1.]])\n",
            "t2\n",
            "tensor([[0., 0., 0.],\n",
            "        [0., 0., 0.],\n",
            "        [0., 0., 0.],\n",
            "        [0., 0., 0.],\n",
            "        [0., 0., 0.]])\n",
            "t1+t2\n",
            "tensor([[1., 1., 1.],\n",
            "        [1., 1., 1.],\n",
            "        [1., 1., 1.],\n",
            "        [1., 1., 1.],\n",
            "        [1., 1., 1.]])\n",
            "t1-t2\n",
            "tensor([[1., 1., 1.],\n",
            "        [1., 1., 1.],\n",
            "        [1., 1., 1.],\n",
            "        [1., 1., 1.],\n",
            "        [1., 1., 1.]])\n",
            "t1*t2\n",
            "tensor([[0., 0., 0.],\n",
            "        [0., 0., 0.],\n",
            "        [0., 0., 0.],\n",
            "        [0., 0., 0.],\n",
            "        [0., 0., 0.]])\n"
          ],
          "name": "stdout"
        }
      ]
    },
    {
      "cell_type": "markdown",
      "metadata": {
        "id": "Q9B7MUF96J55"
      },
      "source": [
        "## Dot Product"
      ]
    },
    {
      "cell_type": "code",
      "metadata": {
        "colab": {
          "base_uri": "https://localhost:8080/"
        },
        "id": "NvV8J24W6JX3",
        "outputId": "80dc7d1d-9f2b-478c-8fc1-331de95afaa4"
      },
      "source": [
        "t1 = torch.ones(5,3)\r\n",
        "t2 = torch.Tensor(3,5).fill_(2)\r\n",
        "print(\"t1\")\r\n",
        "print(t1)\r\n",
        "\r\n",
        "print(\"t2\")\r\n",
        "print(t2)\r\n",
        "\r\n",
        "print(\"dot product\")\r\n",
        "print(torch.matmul(t1,t2))"
      ],
      "execution_count": 46,
      "outputs": [
        {
          "output_type": "stream",
          "text": [
            "t1\n",
            "tensor([[1., 1., 1.],\n",
            "        [1., 1., 1.],\n",
            "        [1., 1., 1.],\n",
            "        [1., 1., 1.],\n",
            "        [1., 1., 1.]])\n",
            "t2\n",
            "tensor([[2., 2., 2., 2., 2.],\n",
            "        [2., 2., 2., 2., 2.],\n",
            "        [2., 2., 2., 2., 2.]])\n",
            "dot product\n",
            "tensor([[6., 6., 6., 6., 6.],\n",
            "        [6., 6., 6., 6., 6.],\n",
            "        [6., 6., 6., 6., 6.],\n",
            "        [6., 6., 6., 6., 6.],\n",
            "        [6., 6., 6., 6., 6.]])\n"
          ],
          "name": "stdout"
        }
      ]
    },
    {
      "cell_type": "code",
      "metadata": {
        "colab": {
          "base_uri": "https://localhost:8080/"
        },
        "id": "D0Cjh8W97G8M",
        "outputId": "18a23d49-0210-445c-9432-93c2066fc7a4"
      },
      "source": [
        "t = torch.ones(5,3)\r\n",
        "print(t.mean()) # ได้ tensor(1.)\r\n",
        "print(t.sum()) # ได้ tensor(15.)\r\n",
        "print(t.std()) # ได้ tensor(0.)\r\n",
        "print(t.max())\r\n",
        "print(t.min())"
      ],
      "execution_count": 47,
      "outputs": [
        {
          "output_type": "stream",
          "text": [
            "tensor(1.)\n",
            "tensor(15.)\n",
            "tensor(0.)\n",
            "tensor(1.)\n",
            "tensor(1.)\n"
          ],
          "name": "stdout"
        }
      ]
    },
    {
      "cell_type": "markdown",
      "metadata": {
        "id": "J9AHuUCUAAGO"
      },
      "source": [
        "# Neural Network"
      ]
    },
    {
      "cell_type": "markdown",
      "metadata": {
        "id": "CqzvM7dq6PGp"
      },
      "source": [
        "## อนุพันธ์"
      ]
    },
    {
      "cell_type": "code",
      "metadata": {
        "id": "njTNE4EF9HPk",
        "colab": {
          "base_uri": "https://localhost:8080/"
        },
        "outputId": "7d3e081d-5625-493e-ed09-945edc07dcc4"
      },
      "source": [
        "x = torch.ones(1,5)\r\n",
        "w = torch.Tensor(5,1).fill_(2)\r\n",
        "\r\n",
        "w.requires_grad = True\r\n",
        "y = torch.matmul(x,w)\r\n",
        "\r\n",
        "y.backward()\r\n",
        "print(y.grad)\r\n",
        "print(w.grad)\r\n",
        "print(x.grad)"
      ],
      "execution_count": 48,
      "outputs": [
        {
          "output_type": "stream",
          "text": [
            "None\n",
            "tensor([[1.],\n",
            "        [1.],\n",
            "        [1.],\n",
            "        [1.],\n",
            "        [1.]])\n",
            "None\n"
          ],
          "name": "stdout"
        },
        {
          "output_type": "stream",
          "text": [
            "/usr/local/lib/python3.6/dist-packages/ipykernel_launcher.py:8: UserWarning: The .grad attribute of a Tensor that is not a leaf Tensor is being accessed. Its .grad attribute won't be populated during autograd.backward(). If you indeed want the gradient for a non-leaf Tensor, use .retain_grad() on the non-leaf Tensor. If you access the non-leaf Tensor by mistake, make sure you access the leaf Tensor instead. See github.com/pytorch/pytorch/pull/30531 for more informations.\n",
            "  \n"
          ],
          "name": "stderr"
        }
      ]
    },
    {
      "cell_type": "markdown",
      "metadata": {
        "id": "DukTG1z7z1Vh"
      },
      "source": [
        "## การสร้าง Layer"
      ]
    },
    {
      "cell_type": "code",
      "metadata": {
        "id": "yfMLnSZy_g3T"
      },
      "source": [
        "linear_layer = torch.nn.Linear(2,3)"
      ],
      "execution_count": 49,
      "outputs": []
    },
    {
      "cell_type": "code",
      "metadata": {
        "id": "nVvr06_H1RPj",
        "colab": {
          "base_uri": "https://localhost:8080/"
        },
        "outputId": "909a6e12-d80d-4bd7-f717-80ef8f787ef0"
      },
      "source": [
        "linear_layer.weight"
      ],
      "execution_count": 50,
      "outputs": [
        {
          "output_type": "execute_result",
          "data": {
            "text/plain": [
              "Parameter containing:\n",
              "tensor([[ 0.4667, -0.6443],\n",
              "        [-0.6723, -0.3411],\n",
              "        [ 0.6209, -0.1178]], requires_grad=True)"
            ]
          },
          "metadata": {
            "tags": []
          },
          "execution_count": 50
        }
      ]
    },
    {
      "cell_type": "code",
      "metadata": {
        "id": "gm7nBF5xvJpt",
        "colab": {
          "base_uri": "https://localhost:8080/"
        },
        "outputId": "8d1d8306-552c-40e2-bbd3-2b7ad02d7154"
      },
      "source": [
        "import torch\r\n",
        "import torch.nn.functional as F\r\n",
        "\r\n",
        "class TestNeuralNetwork(torch.nn.Module):\r\n",
        "    def __init__(self):\r\n",
        "        super(TestNeuralNetwork,self).__init__()\r\n",
        "        self.linearLayer1 = torch.nn.Linear(2,3)\r\n",
        "        self.linearLayer2 = torch.nn.Linear(3,3)\r\n",
        "        self.linearLayer3 = torch.nn.Linear(3,2)\r\n",
        "    \r\n",
        "    def forward(self,x):\r\n",
        "        h1 = self.linearLayer1(x)\r\n",
        "        a1 = F.relu(h1)\r\n",
        "        h2 = self.linearLayer2(a1)\r\n",
        "        a2 = F.relu(h2)\r\n",
        "        h3 = self.linearLayer3(a2)\r\n",
        "        return h3\r\n",
        "\r\n",
        "nn = TestNeuralNetwork()\r\n",
        "print(nn)\r\n"
      ],
      "execution_count": 51,
      "outputs": [
        {
          "output_type": "stream",
          "text": [
            "TestNeuralNetwork(\n",
            "  (linearLayer1): Linear(in_features=2, out_features=3, bias=True)\n",
            "  (linearLayer2): Linear(in_features=3, out_features=3, bias=True)\n",
            "  (linearLayer3): Linear(in_features=3, out_features=2, bias=True)\n",
            ")\n"
          ],
          "name": "stdout"
        }
      ]
    },
    {
      "cell_type": "code",
      "metadata": {
        "id": "af069mc_yIWc",
        "colab": {
          "base_uri": "https://localhost:8080/"
        },
        "outputId": "ec49ffeb-f456-4719-bcce-dba4cf1c6d7f"
      },
      "source": [
        "nn = TestNeuralNetwork()\r\n",
        "\r\n",
        "input = torch.Tensor([1,1])\r\n",
        "output = nn(input) #จะทำการเรียก Method ที่ชื่อว่า Forward\r\n",
        "print(output)"
      ],
      "execution_count": 52,
      "outputs": [
        {
          "output_type": "stream",
          "text": [
            "tensor([ 0.1346, -0.3193], grad_fn=<AddBackward0>)\n"
          ],
          "name": "stdout"
        }
      ]
    },
    {
      "cell_type": "markdown",
      "metadata": {
        "id": "89MdDX-kml46"
      },
      "source": [
        "## ทดสอบสร้าง Neural Network สำหรับการจำแนกข้อมูลออกเป็น 2 กลุ่ม"
      ]
    },
    {
      "cell_type": "markdown",
      "metadata": {
        "id": "X3tgns08-m1u"
      },
      "source": [
        "## จำลองข้อมูล"
      ]
    },
    {
      "cell_type": "code",
      "metadata": {
        "id": "GeBm_MsZmkyK",
        "colab": {
          "base_uri": "https://localhost:8080/",
          "height": 265
        },
        "outputId": "68fae368-7d83-41bf-90b6-f2c902261e9c"
      },
      "source": [
        "import numpy as np\r\n",
        "import matplotlib.pyplot as plt\r\n",
        "\r\n",
        "z = np.arange(2).repeat(40) #กำหนดให้มี 2 สีจำนวนสีละ 40 จุด\r\n",
        "r = np.random.normal(z+1,0.25) #กำหนดรัศมีให้ห่างกันในแต่ละสี\r\n",
        "t = np.random.uniform(0,np.pi,80) #สุ่มค่าตั้งแต่ 0 ถึงค่า pi\r\n",
        "x = r*np.cos(t)\r\n",
        "y = r*np.sin(t)\r\n",
        "input = np.array([x,y]).T\r\n",
        "\r\n",
        "plt.scatter(x[z==0],y[z==0],marker=\"x\",color='r',label=\"0\")\r\n",
        "plt.scatter(x[z==1],y[z==1],marker=\"o\",color='b',label=\"1\")\r\n",
        "plt.legend()\r\n",
        "plt.show()"
      ],
      "execution_count": 53,
      "outputs": [
        {
          "output_type": "display_data",
          "data": {
            "image/png": "[encoded data removed]",
            "text/plain": [
              "<Figure size 432x288 with 1 Axes>"
            ]
          },
          "metadata": {
            "tags": [],
            "needs_background": "light"
          }
        }
      ]
    },
    {
      "cell_type": "markdown",
      "metadata": {
        "id": "s8V6g5Oj-r1h"
      },
      "source": [
        "## สร้าง Neural Network"
      ]
    },
    {
      "cell_type": "code",
      "metadata": {
        "id": "aEolEpERm8GH"
      },
      "source": [
        "import torch\r\n",
        "import torch.nn.functional as F\r\n",
        "\r\n",
        "class TestNeuralNetwork(torch.nn.Module):\r\n",
        "    def __init__(self):\r\n",
        "        super(TestNeuralNetwork,self).__init__()\r\n",
        "        self.linearLayer1 = torch.nn.Linear(2,3)\r\n",
        "        self.linearLayer2 = torch.nn.Linear(3,3)\r\n",
        "        self.linearLayer3 = torch.nn.Linear(3,2)\r\n",
        "    \r\n",
        "    def forward(self,x):\r\n",
        "        h1 = self.linearLayer1(x)\r\n",
        "        a1 = F.relu(h1)\r\n",
        "        h2 = self.linearLayer2(a1)\r\n",
        "        a2 = F.relu(h2)\r\n",
        "        h3 = self.linearLayer3(a2)\r\n",
        "        return h3\r\n",
        "\r\n",
        "\r\n",
        "\r\n",
        "input = torch.Tensor(input)  #แปลงเป็นค่า X ให้อยู่ใน Tensor\r\n",
        "label = torch.LongTensor(z) #แปลงเป็นค่า z ให้อยู่ใน Tensor\r\n",
        "nn = TestNeuralNetwork() "
      ],
      "execution_count": 54,
      "outputs": []
    },
    {
      "cell_type": "markdown",
      "metadata": {
        "id": "Ck_bzC18Ddfc"
      },
      "source": [
        "## Train"
      ]
    },
    {
      "cell_type": "code",
      "metadata": {
        "id": "easLvFYSGBmt"
      },
      "source": [
        "optimizer = torch.optim.Adam(nn.parameters(),lr=0.1)  # สร้าง Optimizer แบบวิธี Adam พร้อมทั้งต้องระบุว่าจะให้ Opimizer ปรับค่า Weight ในตัวแปรชื่อว่า nn\r\n",
        "cross_entropy = torch.nn.CrossEntropyLoss()"
      ],
      "execution_count": 55,
      "outputs": []
    },
    {
      "cell_type": "code",
      "metadata": {
        "id": "OP4lOjcUDf21"
      },
      "source": [
        "\r\n",
        "for i in range(200): #วนลูปเพื่อทำการ train\r\n",
        "    a = nn(input)\r\n",
        "    output = cross_entropy(a,label)\r\n",
        "    output.backward()\r\n",
        "    optimizer.step()      #ให้ Optimizer ทำการปรับค่า Weight\r\n",
        "    optimizer.zero_grad() #ปรับให้ grad มีค่าเป็น 0 เพราะหากไม่ปรับค่าเป็น 0 ในการคำนวณรอบต่อไป grad จะกลายเป็นค่าที่บวกจากของเก่าเพิ่มขึ้นเรื่อยๆ"
      ],
      "execution_count": 56,
      "outputs": []
    },
    {
      "cell_type": "markdown",
      "metadata": {
        "id": "dNfYrS1cAhUV"
      },
      "source": [
        "## วาดกราฟแสดงผล"
      ]
    },
    {
      "cell_type": "code",
      "metadata": {
        "id": "aLHdchq7-kRF",
        "colab": {
          "base_uri": "https://localhost:8080/",
          "height": 265
        },
        "outputId": "8598cac2-4984-4d9c-d009-3b2acddbf05b"
      },
      "source": [
        "predict_z = nn(input)\r\n",
        "predict_z = predict_z.argmax(1)\r\n",
        "\r\n",
        "# plt.scatter(x,y,c=predict_z,edgecolor='k')\r\n",
        "\r\n",
        "plt.scatter(x[predict_z==0],y[predict_z==0],marker=\"x\",color='r',label=\"0\")\r\n",
        "plt.scatter(x[predict_z==1],y[predict_z==1],marker=\"o\",color='b',label=\"1\")\r\n",
        "plt.legend()\r\n",
        "plt.show()"
      ],
      "execution_count": 57,
      "outputs": [
        {
          "output_type": "display_data",
          "data": {
            "image/png": "[encoded data removed]",
            "text/plain": [
              "<Figure size 432x288 with 1 Axes>"
            ]
          },
          "metadata": {
            "tags": [],
            "needs_background": "light"
          }
        }
      ]
    }
  ]
}