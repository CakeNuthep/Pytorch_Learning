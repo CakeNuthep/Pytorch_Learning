{
  "nbformat": 4,
  "nbformat_minor": 0,
  "metadata": {
    "colab": {
      "name": "Copy of Video PyTorch.ipynb",
      "provenance": [],
      "collapsed_sections": [],
      "authorship_tag": "ABX9TyPsVScWcINY5qFsE769cwe5",
      "include_colab_link": true
    },
    "kernelspec": {
      "name": "python3",
      "display_name": "Python 3"
    },
    "accelerator": "GPU"
  },
  "cells": [
    {
      "cell_type": "markdown",
      "metadata": {
        "id": "view-in-github",
        "colab_type": "text"
      },
      "source": [
        "<a href=\"https://colab.research.google.com/github/CakeNuthep/Pytorch_Learning/blob/main/PyTorch_Neural_Network.ipynb\" target=\"_parent\"><img src=\"https://colab.research.google.com/assets/colab-badge.svg\" alt=\"Open In Colab\"/></a>"
      ]
    },
    {
      "cell_type": "markdown",
      "metadata": {
        "id": "fKkl5JUu11vM"
      },
      "source": [
        "# การติดตั้ง"
      ]
    },
    {
      "cell_type": "code",
      "metadata": {
        "id": "L4-Aj9LuvVaJ"
      },
      "source": [
        "import torch"
      ],
      "execution_count": 1,
      "outputs": []
    },
    {
      "cell_type": "code",
      "metadata": {
        "colab": {
          "base_uri": "https://localhost:8080/"
        },
        "id": "vyJ1JUvDwLtF",
        "outputId": "06cbbcd0-2aaa-48c6-fe70-a8577749bd32"
      },
      "source": [
        "print(torch.__version__)"
      ],
      "execution_count": 2,
      "outputs": [
        {
          "output_type": "stream",
          "text": [
            "1.7.0+cu101\n"
          ],
          "name": "stdout"
        }
      ]
    },
    {
      "cell_type": "markdown",
      "metadata": {
        "id": "CiZhg11w16cu"
      },
      "source": [
        "# การใช้ง่าน Tensor ใน PyTorch"
      ]
    },
    {
      "cell_type": "code",
      "metadata": {
        "colab": {
          "base_uri": "https://localhost:8080/"
        },
        "id": "pBryesynxAeE",
        "outputId": "a41f6229-04b7-47cd-f5dc-b7997bf1a6ef"
      },
      "source": [
        "x = torch.rand(3,4,dtype = torch.float32)\r\n",
        "dtype = print(x)"
      ],
      "execution_count": 3,
      "outputs": [
        {
          "output_type": "stream",
          "text": [
            "tensor([[0.5535, 0.6789, 0.5035, 0.4933],\n",
            "        [0.1492, 0.1440, 0.0361, 0.8134],\n",
            "        [0.0192, 0.1484, 0.8329, 0.9732]])\n"
          ],
          "name": "stdout"
        }
      ]
    },
    {
      "cell_type": "code",
      "metadata": {
        "colab": {
          "base_uri": "https://localhost:8080/"
        },
        "id": "gKGSrDDnxKLf",
        "outputId": "fcb8a141-08d6-405a-a6b3-6e0140d30341"
      },
      "source": [
        "x = torch.zeros(5,3, dtype= torch.long)\r\n",
        "print(x)"
      ],
      "execution_count": 4,
      "outputs": [
        {
          "output_type": "stream",
          "text": [
            "tensor([[0, 0, 0],\n",
            "        [0, 0, 0],\n",
            "        [0, 0, 0],\n",
            "        [0, 0, 0],\n",
            "        [0, 0, 0]])\n"
          ],
          "name": "stdout"
        }
      ]
    },
    {
      "cell_type": "code",
      "metadata": {
        "id": "40-v1QUQd88e",
        "colab": {
          "base_uri": "https://localhost:8080/"
        },
        "outputId": "966ec579-1d10-411e-ed17-073099f7968d"
      },
      "source": [
        "x = x.new_ones(5,3,dtype=torch.float64)\r\n",
        "print(x)"
      ],
      "execution_count": 5,
      "outputs": [
        {
          "output_type": "stream",
          "text": [
            "tensor([[1., 1., 1.],\n",
            "        [1., 1., 1.],\n",
            "        [1., 1., 1.],\n",
            "        [1., 1., 1.],\n",
            "        [1., 1., 1.]], dtype=torch.float64)\n"
          ],
          "name": "stdout"
        }
      ]
    },
    {
      "cell_type": "code",
      "metadata": {
        "colab": {
          "base_uri": "https://localhost:8080/"
        },
        "id": "jT5oOGYbxX3O",
        "outputId": "9951655e-8f0c-44a9-d2b1-bb38b0797a37"
      },
      "source": [
        "x = torch.tensor([4.123,3])\r\n",
        "print(x)"
      ],
      "execution_count": 6,
      "outputs": [
        {
          "output_type": "stream",
          "text": [
            "tensor([4.1230, 3.0000])\n"
          ],
          "name": "stdout"
        }
      ]
    },
    {
      "cell_type": "code",
      "metadata": {
        "colab": {
          "base_uri": "https://localhost:8080/"
        },
        "id": "-rGxogQNxvXu",
        "outputId": "a90b8153-a3b6-4c5f-ec93-4008e34a83ed"
      },
      "source": [
        "x = torch.randn_like(x, dtype=torch.float32)   #result has the same size\r\n",
        "print(x)"
      ],
      "execution_count": 7,
      "outputs": [
        {
          "output_type": "stream",
          "text": [
            "tensor([-0.4230, -0.0945])\n"
          ],
          "name": "stdout"
        }
      ]
    },
    {
      "cell_type": "code",
      "metadata": {
        "id": "LuL65E5AeKL_",
        "colab": {
          "base_uri": "https://localhost:8080/"
        },
        "outputId": "98cec9eb-31af-4bd9-c00a-8aab6ca5079f"
      },
      "source": [
        "x = torch.Tensor(5,3).fill_(7)\r\n",
        "print(x)"
      ],
      "execution_count": 8,
      "outputs": [
        {
          "output_type": "stream",
          "text": [
            "tensor([[7., 7., 7.],\n",
            "        [7., 7., 7.],\n",
            "        [7., 7., 7.],\n",
            "        [7., 7., 7.],\n",
            "        [7., 7., 7.]])\n"
          ],
          "name": "stdout"
        }
      ]
    },
    {
      "cell_type": "code",
      "metadata": {
        "id": "bOmJDnnpeYqv",
        "colab": {
          "base_uri": "https://localhost:8080/"
        },
        "outputId": "3f9546a0-e16b-4ec4-d845-a1c867001dae"
      },
      "source": [
        "x = torch.Tensor(5,3).fill_(7).type(torch.int)\r\n",
        "print(x)"
      ],
      "execution_count": 9,
      "outputs": [
        {
          "output_type": "stream",
          "text": [
            "tensor([[7, 7, 7],\n",
            "        [7, 7, 7],\n",
            "        [7, 7, 7],\n",
            "        [7, 7, 7],\n",
            "        [7, 7, 7]], dtype=torch.int32)\n"
          ],
          "name": "stdout"
        }
      ]
    },
    {
      "cell_type": "code",
      "metadata": {
        "colab": {
          "base_uri": "https://localhost:8080/"
        },
        "id": "5mxaAJUb05z5",
        "outputId": "fad109fd-2ab1-4055-eab3-d8b688326e4d"
      },
      "source": [
        "torch.manual_seed(1)\r\n",
        "x = torch.randn(5,3)\r\n",
        "print(x)"
      ],
      "execution_count": 10,
      "outputs": [
        {
          "output_type": "stream",
          "text": [
            "tensor([[ 0.6614,  0.2669,  0.0617],\n",
            "        [ 0.6213, -0.4519, -0.1661],\n",
            "        [-1.5228,  0.3817, -1.0276],\n",
            "        [-0.5631, -0.8923, -0.0583],\n",
            "        [-0.1955, -0.9656,  0.4224]])\n"
          ],
          "name": "stdout"
        }
      ]
    },
    {
      "cell_type": "code",
      "metadata": {
        "colab": {
          "base_uri": "https://localhost:8080/"
        },
        "id": "7WSIORCE2kYu",
        "outputId": "00236172-d15e-4052-b91e-f88e8a8b1cb6"
      },
      "source": [
        "import numpy as np\r\n",
        "np_array = np.array([2,3])\r\n",
        "t = torch.Tensor(np_array)\r\n",
        "print(t)"
      ],
      "execution_count": 11,
      "outputs": [
        {
          "output_type": "stream",
          "text": [
            "tensor([2., 3.])\n"
          ],
          "name": "stdout"
        }
      ]
    },
    {
      "cell_type": "markdown",
      "metadata": {
        "id": "44ipTQ9Y2M5w"
      },
      "source": [
        "# การคำนวณ"
      ]
    },
    {
      "cell_type": "code",
      "metadata": {
        "colab": {
          "base_uri": "https://localhost:8080/"
        },
        "id": "gAdPUze1yonH",
        "outputId": "14b7e720-78fd-4237-c7f0-2d882101a383"
      },
      "source": [
        "t1 = torch.ones(5,3)\r\n",
        "print(\"t1\")\r\n",
        "print(t1)\r\n",
        "\r\n",
        "t2 = torch.zeros(5,3)\r\n",
        "print(\"t2\")\r\n",
        "print(t2)\r\n",
        "\r\n",
        "print(\"t1+t2\")\r\n",
        "print(t1+t2)\r\n",
        "\r\n",
        "print(\"t1-t2\")\r\n",
        "print(t1-t2)\r\n",
        "\r\n",
        "print(\"t1*t2\")\r\n",
        "print(t1*t2)"
      ],
      "execution_count": 12,
      "outputs": [
        {
          "output_type": "stream",
          "text": [
            "t1\n",
            "tensor([[1., 1., 1.],\n",
            "        [1., 1., 1.],\n",
            "        [1., 1., 1.],\n",
            "        [1., 1., 1.],\n",
            "        [1., 1., 1.]])\n",
            "t2\n",
            "tensor([[0., 0., 0.],\n",
            "        [0., 0., 0.],\n",
            "        [0., 0., 0.],\n",
            "        [0., 0., 0.],\n",
            "        [0., 0., 0.]])\n",
            "t1+t2\n",
            "tensor([[1., 1., 1.],\n",
            "        [1., 1., 1.],\n",
            "        [1., 1., 1.],\n",
            "        [1., 1., 1.],\n",
            "        [1., 1., 1.]])\n",
            "t1-t2\n",
            "tensor([[1., 1., 1.],\n",
            "        [1., 1., 1.],\n",
            "        [1., 1., 1.],\n",
            "        [1., 1., 1.],\n",
            "        [1., 1., 1.]])\n",
            "t1*t2\n",
            "tensor([[0., 0., 0.],\n",
            "        [0., 0., 0.],\n",
            "        [0., 0., 0.],\n",
            "        [0., 0., 0.],\n",
            "        [0., 0., 0.]])\n"
          ],
          "name": "stdout"
        }
      ]
    },
    {
      "cell_type": "markdown",
      "metadata": {
        "id": "Q9B7MUF96J55"
      },
      "source": [
        "## Dot Product"
      ]
    },
    {
      "cell_type": "code",
      "metadata": {
        "colab": {
          "base_uri": "https://localhost:8080/"
        },
        "id": "NvV8J24W6JX3",
        "outputId": "edfdc2f8-e216-45cd-ed6e-bc6e4cf81212"
      },
      "source": [
        "t1 = torch.ones(5,3)\r\n",
        "t2 = torch.Tensor(3,5).fill_(2)\r\n",
        "print(\"t1\")\r\n",
        "print(t1)\r\n",
        "\r\n",
        "print(\"t2\")\r\n",
        "print(t2)\r\n",
        "\r\n",
        "print(\"dot product\")\r\n",
        "print(torch.matmul(t1,t2))"
      ],
      "execution_count": 13,
      "outputs": [
        {
          "output_type": "stream",
          "text": [
            "t1\n",
            "tensor([[1., 1., 1.],\n",
            "        [1., 1., 1.],\n",
            "        [1., 1., 1.],\n",
            "        [1., 1., 1.],\n",
            "        [1., 1., 1.]])\n",
            "t2\n",
            "tensor([[2., 2., 2., 2., 2.],\n",
            "        [2., 2., 2., 2., 2.],\n",
            "        [2., 2., 2., 2., 2.]])\n",
            "dot product\n",
            "tensor([[6., 6., 6., 6., 6.],\n",
            "        [6., 6., 6., 6., 6.],\n",
            "        [6., 6., 6., 6., 6.],\n",
            "        [6., 6., 6., 6., 6.],\n",
            "        [6., 6., 6., 6., 6.]])\n"
          ],
          "name": "stdout"
        }
      ]
    },
    {
      "cell_type": "code",
      "metadata": {
        "colab": {
          "base_uri": "https://localhost:8080/"
        },
        "id": "D0Cjh8W97G8M",
        "outputId": "6bded4f4-77e3-424b-e0e5-3cecc0a20e24"
      },
      "source": [
        "t = torch.ones(5,3)\r\n",
        "print(t.mean()) # ได้ tensor(1.)\r\n",
        "print(t.sum()) # ได้ tensor(15.)\r\n",
        "print(t.std()) # ได้ tensor(0.)\r\n",
        "print(t.max())\r\n",
        "print(t.min())"
      ],
      "execution_count": 14,
      "outputs": [
        {
          "output_type": "stream",
          "text": [
            "tensor(1.)\n",
            "tensor(15.)\n",
            "tensor(0.)\n",
            "tensor(1.)\n",
            "tensor(1.)\n"
          ],
          "name": "stdout"
        }
      ]
    },
    {
      "cell_type": "markdown",
      "metadata": {
        "id": "J9AHuUCUAAGO"
      },
      "source": [
        "# Neural Network"
      ]
    },
    {
      "cell_type": "markdown",
      "metadata": {
        "id": "CqzvM7dq6PGp"
      },
      "source": [
        "## อนุพันธ์"
      ]
    },
    {
      "cell_type": "code",
      "metadata": {
        "id": "njTNE4EF9HPk",
        "colab": {
          "base_uri": "https://localhost:8080/"
        },
        "outputId": "60cdce9a-b9fe-42b0-86d3-129aebdda169"
      },
      "source": [
        "x = torch.ones(1,5)\r\n",
        "w = torch.Tensor(5,1).fill_(2)\r\n",
        "\r\n",
        "w.requires_grad = True\r\n",
        "y = torch.matmul(x,w)\r\n",
        "\r\n",
        "y.backward()\r\n",
        "print(y.grad)\r\n",
        "print(w.grad)\r\n",
        "print(x.grad)"
      ],
      "execution_count": 15,
      "outputs": [
        {
          "output_type": "stream",
          "text": [
            "None\n",
            "tensor([[1.],\n",
            "        [1.],\n",
            "        [1.],\n",
            "        [1.],\n",
            "        [1.]])\n",
            "None\n"
          ],
          "name": "stdout"
        },
        {
          "output_type": "stream",
          "text": [
            "/usr/local/lib/python3.6/dist-packages/ipykernel_launcher.py:8: UserWarning: The .grad attribute of a Tensor that is not a leaf Tensor is being accessed. Its .grad attribute won't be populated during autograd.backward(). If you indeed want the gradient for a non-leaf Tensor, use .retain_grad() on the non-leaf Tensor. If you access the non-leaf Tensor by mistake, make sure you access the leaf Tensor instead. See github.com/pytorch/pytorch/pull/30531 for more informations.\n",
            "  \n"
          ],
          "name": "stderr"
        }
      ]
    },
    {
      "cell_type": "markdown",
      "metadata": {
        "id": "DukTG1z7z1Vh"
      },
      "source": [
        "## การสร้าง Layer"
      ]
    },
    {
      "cell_type": "code",
      "metadata": {
        "id": "yfMLnSZy_g3T"
      },
      "source": [
        "linear_layer = torch.nn.Linear(2,3)"
      ],
      "execution_count": 16,
      "outputs": []
    },
    {
      "cell_type": "code",
      "metadata": {
        "id": "nVvr06_H1RPj",
        "colab": {
          "base_uri": "https://localhost:8080/"
        },
        "outputId": "c679ff9c-8578-4ff6-c381-5e070d8ffea8"
      },
      "source": [
        "linear_layer.weight"
      ],
      "execution_count": 17,
      "outputs": [
        {
          "output_type": "execute_result",
          "data": {
            "text/plain": [
              "Parameter containing:\n",
              "tensor([[ 0.4667, -0.6443],\n",
              "        [-0.6723, -0.3411],\n",
              "        [ 0.6209, -0.1178]], requires_grad=True)"
            ]
          },
          "metadata": {
            "tags": []
          },
          "execution_count": 17
        }
      ]
    },
    {
      "cell_type": "code",
      "metadata": {
        "id": "gm7nBF5xvJpt",
        "colab": {
          "base_uri": "https://localhost:8080/"
        },
        "outputId": "fb4dbd47-acc0-4c8b-aed1-cbea707dbc70"
      },
      "source": [
        "import torch\r\n",
        "import torch.nn.functional as F\r\n",
        "\r\n",
        "class TestNeuralNetwork(torch.nn.Module):\r\n",
        "    def __init__(self):\r\n",
        "        super(TestNeuralNetwork,self).__init__()\r\n",
        "        self.linearLayer1 = torch.nn.Linear(2,3)\r\n",
        "        self.linearLayer2 = torch.nn.Linear(3,3)\r\n",
        "        self.linearLayer3 = torch.nn.Linear(3,2)\r\n",
        "    \r\n",
        "    def forward(self,x):\r\n",
        "        h1 = self.linearLayer1(x)\r\n",
        "        a1 = F.relu(h1)\r\n",
        "        h2 = self.linearLayer2(a1)\r\n",
        "        a2 = F.relu(h2)\r\n",
        "        h3 = self.linearLayer3(a2)\r\n",
        "        return h3\r\n",
        "\r\n",
        "nn = TestNeuralNetwork()\r\n",
        "print(nn)\r\n"
      ],
      "execution_count": 18,
      "outputs": [
        {
          "output_type": "stream",
          "text": [
            "TestNeuralNetwork(\n",
            "  (linearLayer1): Linear(in_features=2, out_features=3, bias=True)\n",
            "  (linearLayer2): Linear(in_features=3, out_features=3, bias=True)\n",
            "  (linearLayer3): Linear(in_features=3, out_features=2, bias=True)\n",
            ")\n"
          ],
          "name": "stdout"
        }
      ]
    },
    {
      "cell_type": "code",
      "metadata": {
        "id": "af069mc_yIWc",
        "colab": {
          "base_uri": "https://localhost:8080/"
        },
        "outputId": "62124c6c-9979-4ff1-a753-528ebe412129"
      },
      "source": [
        "nn = TestNeuralNetwork()\r\n",
        "\r\n",
        "input = torch.Tensor([1,1])\r\n",
        "output = nn(input) #จะทำการเรียก Method ที่ชื่อว่า Forward\r\n",
        "print(output)"
      ],
      "execution_count": 19,
      "outputs": [
        {
          "output_type": "stream",
          "text": [
            "tensor([ 0.1346, -0.3193], grad_fn=<AddBackward0>)\n"
          ],
          "name": "stdout"
        }
      ]
    },
    {
      "cell_type": "markdown",
      "metadata": {
        "id": "89MdDX-kml46"
      },
      "source": [
        "## ทดสอบสร้าง Neural Network สำหรับการจำแนกข้อมูลออกเป็น 2 กลุ่ม"
      ]
    },
    {
      "cell_type": "markdown",
      "metadata": {
        "id": "X3tgns08-m1u"
      },
      "source": [
        "## จำลองข้อมูล"
      ]
    },
    {
      "cell_type": "code",
      "metadata": {
        "id": "GeBm_MsZmkyK",
        "colab": {
          "base_uri": "https://localhost:8080/",
          "height": 265
        },
        "outputId": "6747f20e-618f-49f2-bad4-276059879e74"
      },
      "source": [
        "import numpy as np\r\n",
        "import matplotlib.pyplot as plt\r\n",
        "\r\n",
        "z = np.arange(2).repeat(40) #กำหนดให้มี 2 สีจำนวนสีละ 40 จุด\r\n",
        "r = np.random.normal(z+1,0.25) #กำหนดรัศมีให้ห่างกันในแต่ละสี\r\n",
        "t = np.random.uniform(0,np.pi,80) #สุ่มค่าตั้งแต่ 0 ถึงค่า pi\r\n",
        "x = r*np.cos(t)\r\n",
        "y = r*np.sin(t)\r\n",
        "input = np.array([x,y]).T\r\n",
        "\r\n",
        "plt.scatter(x[z==0],y[z==0],marker=\"x\",color='r',label=\"0\")\r\n",
        "plt.scatter(x[z==1],y[z==1],marker=\"o\",color='b',label=\"1\")\r\n",
        "plt.legend()\r\n",
        "plt.show()"
      ],
      "execution_count": 20,
      "outputs": [
        {
          "output_type": "display_data",
          "data": {
            "image/png": "[encoded data removed]",
            "text/plain": [
              "<Figure size 432x288 with 1 Axes>"
            ]
          },
          "metadata": {
            "tags": [],
            "needs_background": "light"
          }
        }
      ]
    },
    {
      "cell_type": "markdown",
      "metadata": {
        "id": "s8V6g5Oj-r1h"
      },
      "source": [
        "## สร้าง Neural Network"
      ]
    },
    {
      "cell_type": "code",
      "metadata": {
        "id": "aEolEpERm8GH"
      },
      "source": [
        "import torch\r\n",
        "import torch.nn.functional as F\r\n",
        "\r\n",
        "class TestNeuralNetwork(torch.nn.Module):\r\n",
        "    def __init__(self):\r\n",
        "        super(TestNeuralNetwork,self).__init__()\r\n",
        "        self.linearLayer1 = torch.nn.Linear(2,3)\r\n",
        "        self.linearLayer2 = torch.nn.Linear(3,3)\r\n",
        "        self.linearLayer3 = torch.nn.Linear(3,2)\r\n",
        "    \r\n",
        "    def forward(self,x):\r\n",
        "        layer1 = self.linearLayer1(x)\r\n",
        "        a1 = F.relu(layer1)\r\n",
        "        layer2 = self.linearLayer2(a1)\r\n",
        "        a2 = F.relu(layer2)\r\n",
        "        layer3 = self.linearLayer3(a2)\r\n",
        "        return layer3\r\n",
        "\r\n",
        "\r\n",
        "\r\n",
        "input = torch.Tensor(input)  #แปลงเป็นค่า X ให้อยู่ใน Tensor\r\n",
        "label = torch.LongTensor(z) #แปลงเป็นค่า z ให้อยู่ใน Tensor\r\n",
        "nn = TestNeuralNetwork() "
      ],
      "execution_count": 21,
      "outputs": []
    },
    {
      "cell_type": "markdown",
      "metadata": {
        "id": "Ck_bzC18Ddfc"
      },
      "source": [
        "## Train"
      ]
    },
    {
      "cell_type": "code",
      "metadata": {
        "id": "easLvFYSGBmt"
      },
      "source": [
        "optimizer = torch.optim.Adam(nn.parameters(),lr=0.1)  # สร้าง Optimizer แบบวิธี Adam พร้อมทั้งต้องระบุว่าจะให้ Opimizer ปรับค่า Weight ในตัวแปรชื่อว่า nn\r\n",
        "cross_entropy = torch.nn.CrossEntropyLoss()"
      ],
      "execution_count": 22,
      "outputs": []
    },
    {
      "cell_type": "code",
      "metadata": {
        "id": "OP4lOjcUDf21"
      },
      "source": [
        "\r\n",
        "for i in range(200): #วนลูปเพื่อทำการ train\r\n",
        "    predict = nn(input)\r\n",
        "    loss = cross_entropy(predict,label)\r\n",
        "    loss.backward()\r\n",
        "    optimizer.step()      #ให้ Optimizer ทำการปรับค่า Weight\r\n",
        "    optimizer.zero_grad() #ปรับให้ grad มีค่าเป็น 0 เพราะหากไม่ปรับค่าเป็น 0 ในการคำนวณรอบต่อไป grad จะกลายเป็นค่าที่บวกจากของเก่าเพิ่มขึ้นเรื่อยๆ"
      ],
      "execution_count": 23,
      "outputs": []
    },
    {
      "cell_type": "markdown",
      "metadata": {
        "id": "dNfYrS1cAhUV"
      },
      "source": [
        "## วาดกราฟแสดงผล"
      ]
    },
    {
      "cell_type": "code",
      "metadata": {
        "id": "aLHdchq7-kRF",
        "colab": {
          "base_uri": "https://localhost:8080/",
          "height": 265
        },
        "outputId": "cdde8c30-2f5d-49df-f651-8c66a6e139e4"
      },
      "source": [
        "predict_z = nn(input)\r\n",
        "predict_z = predict_z.argmax(1)\r\n",
        "\r\n",
        "# plt.scatter(x,y,c=predict_z,edgecolor='k')\r\n",
        "\r\n",
        "plt.scatter(x[predict_z==0],y[predict_z==0],marker=\"x\",color='r',label=\"0\")\r\n",
        "plt.scatter(x[predict_z==1],y[predict_z==1],marker=\"o\",color='b',label=\"1\")\r\n",
        "plt.legend()\r\n",
        "plt.show()"
      ],
      "execution_count": 24,
      "outputs": [
        {
          "output_type": "display_data",
          "data": {
            "image/png": "[encoded data removed]",
            "text/plain": [
              "<Figure size 432x288 with 1 Axes>"
            ]
          },
          "metadata": {
            "tags": [],
            "needs_background": "light"
          }
        }
      ]
    }
  ]
}